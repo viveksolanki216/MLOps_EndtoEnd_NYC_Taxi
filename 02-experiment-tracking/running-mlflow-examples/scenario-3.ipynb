{
 "cells": [
  {
   "cell_type": "markdown",
   "metadata": {},
   "source": [
    "## Scenario 3: Multiple data scientists working on multiple ML models\n",
    "\n",
    "MLflow setup:\n",
    "* Tracking server: yes, remote server (EC2).\n",
    "* Backend store: postgresql database.\n",
    "* Artifacts store: s3 bucket.\n",
    "\n",
    "The experiments can be explored by accessing the remote server.\n",
    "\n",
    "The example uses AWS to host a remote server. In order to run the example you'll need an AWS account. Follow the steps described in the file `mlflow_on_aws.md` to create a new AWS account and launch the tracking server."
   ]
  },
  {
   "metadata": {
    "ExecuteTime": {
     "end_time": "2025-07-09T19:27:35.009266Z",
     "start_time": "2025-07-09T19:27:33.803961Z"
    }
   },
   "cell_type": "code",
   "source": "!pip install optuna\n",
   "outputs": [
    {
     "name": "stdout",
     "output_type": "stream",
     "text": [
      "Requirement already satisfied: optuna in /Users/vss/opt/anaconda3/envs/mlops-zoomcamp/lib/python3.12/site-packages (4.4.0)\r\n",
      "Requirement already satisfied: alembic>=1.5.0 in /Users/vss/opt/anaconda3/envs/mlops-zoomcamp/lib/python3.12/site-packages (from optuna) (1.16.2)\r\n",
      "Requirement already satisfied: colorlog in /Users/vss/opt/anaconda3/envs/mlops-zoomcamp/lib/python3.12/site-packages (from optuna) (6.9.0)\r\n",
      "Requirement already satisfied: numpy in /Users/vss/opt/anaconda3/envs/mlops-zoomcamp/lib/python3.12/site-packages (from optuna) (2.0.1)\r\n",
      "Requirement already satisfied: packaging>=20.0 in /Users/vss/opt/anaconda3/envs/mlops-zoomcamp/lib/python3.12/site-packages (from optuna) (24.2)\r\n",
      "Requirement already satisfied: sqlalchemy>=1.4.2 in /Users/vss/opt/anaconda3/envs/mlops-zoomcamp/lib/python3.12/site-packages (from optuna) (2.0.39)\r\n",
      "Requirement already satisfied: tqdm in /Users/vss/opt/anaconda3/envs/mlops-zoomcamp/lib/python3.12/site-packages (from optuna) (4.67.1)\r\n",
      "Requirement already satisfied: PyYAML in /Users/vss/opt/anaconda3/envs/mlops-zoomcamp/lib/python3.12/site-packages (from optuna) (6.0.2)\r\n",
      "Requirement already satisfied: Mako in /Users/vss/opt/anaconda3/envs/mlops-zoomcamp/lib/python3.12/site-packages (from alembic>=1.5.0->optuna) (1.2.3)\r\n",
      "Requirement already satisfied: typing-extensions>=4.12 in /Users/vss/opt/anaconda3/envs/mlops-zoomcamp/lib/python3.12/site-packages (from alembic>=1.5.0->optuna) (4.12.2)\r\n",
      "Requirement already satisfied: greenlet!=0.4.17 in /Users/vss/opt/anaconda3/envs/mlops-zoomcamp/lib/python3.12/site-packages (from sqlalchemy>=1.4.2->optuna) (3.1.1)\r\n",
      "Requirement already satisfied: MarkupSafe>=0.9.2 in /Users/vss/opt/anaconda3/envs/mlops-zoomcamp/lib/python3.12/site-packages (from Mako->alembic>=1.5.0->optuna) (3.0.2)\r\n"
     ]
    }
   ],
   "execution_count": 3
  },
  {
   "cell_type": "code",
   "metadata": {
    "ExecuteTime": {
     "end_time": "2025-07-09T19:28:11.932843Z",
     "start_time": "2025-07-09T19:28:11.929687Z"
    }
   },
   "source": [
    "from mlflow.optuna.storage import mlflow_optuna_status_map\n",
    "\n",
    "\n",
    "\n",
    "import mlflow\n",
    "import os\n",
    "\n",
    "os.environ[\"AWS_PROFILE\"] = \"default\" # fill in with your AWS profile. More info: https://docs.aws.amazon.com/sdk-for-java/latest/developer-guide/setup.html#setup-credentials\n",
    "\n",
    "TRACKING_SERVER_HOST = \"13.218.53.74\" # fill in with the public DNS of the EC2 instance\n",
    "mlflow.set_tracking_uri(f\"http://{TRACKING_SERVER_HOST}:5000\")"
   ],
   "outputs": [],
   "execution_count": 7
  },
  {
   "cell_type": "code",
   "metadata": {
    "ExecuteTime": {
     "end_time": "2025-07-09T19:28:15.963616Z",
     "start_time": "2025-07-09T19:28:15.959243Z"
    }
   },
   "source": [
    "print(f\"tracking URI: '{mlflow.get_tracking_uri()}'\")"
   ],
   "outputs": [
    {
     "name": "stdout",
     "output_type": "stream",
     "text": [
      "tracking URI: 'http://13.218.53.74:5000'\n"
     ]
    }
   ],
   "execution_count": 8
  },
  {
   "cell_type": "code",
   "metadata": {
    "ExecuteTime": {
     "end_time": "2025-07-09T19:29:43.518272Z",
     "start_time": "2025-07-09T19:29:42.860403Z"
    }
   },
   "source": [
    "mlflow.search_experiments() # list_experiments API has been removed, you can use search_experiments instead.()"
   ],
   "outputs": [
    {
     "data": {
      "text/plain": [
       "[<Experiment: artifact_location='s3://mlflow-artifacts-remote-vivek2/artifacts/0', creation_time=1752088259213, experiment_id='0', last_update_time=1752088259213, lifecycle_stage='active', name='Default', tags={}>]"
      ]
     },
     "execution_count": 9,
     "metadata": {},
     "output_type": "execute_result"
    }
   ],
   "execution_count": 9
  },
  {
   "cell_type": "code",
   "metadata": {
    "ExecuteTime": {
     "end_time": "2025-07-09T19:30:36.960816Z",
     "start_time": "2025-07-09T19:30:07.573720Z"
    }
   },
   "source": [
    "from sklearn.linear_model import LogisticRegression\n",
    "from sklearn.datasets import load_iris\n",
    "from sklearn.metrics import accuracy_score\n",
    "\n",
    "mlflow.set_experiment(\"my-experiment-1\")\n",
    "\n",
    "with mlflow.start_run():\n",
    "\n",
    "    X, y = load_iris(return_X_y=True)\n",
    "\n",
    "    params = {\"C\": 0.1, \"random_state\": 42}\n",
    "    mlflow.log_params(params)\n",
    "\n",
    "    lr = LogisticRegression(**params).fit(X, y)\n",
    "    y_pred = lr.predict(X)\n",
    "    mlflow.log_metric(\"accuracy\", accuracy_score(y, y_pred))\n",
    "\n",
    "    mlflow.sklearn.log_model(lr, artifact_path=\"models\")\n",
    "    print(f\"default artifacts URI: '{mlflow.get_artifact_uri()}'\")"
   ],
   "outputs": [
    {
     "name": "stderr",
     "output_type": "stream",
     "text": [
      "2025/07/10 01:00:18 INFO mlflow.tracking.fluent: Experiment with name 'my-experiment-1' does not exist. Creating a new experiment.\n",
      "2025/07/10 01:00:22 WARNING mlflow.models.model: `artifact_path` is deprecated. Please use `name` instead.\n",
      "\u001B[31m2025/07/10 01:00:30 WARNING mlflow.models.model: Model logged without a signature and input example. Please set `input_example` parameter when logging the model to auto infer the model signature.\u001B[0m\n"
     ]
    },
    {
     "name": "stdout",
     "output_type": "stream",
     "text": [
      "default artifacts URI: 's3://mlflow-artifacts-remote-vivek2/artifacts/1/dbc840cde70046a887d541cb2cb1c9fd/artifacts'\n",
      "🏃 View run redolent-midge-986 at: http://13.218.53.74:5000/#/experiments/1/runs/dbc840cde70046a887d541cb2cb1c9fd\n",
      "🧪 View experiment at: http://13.218.53.74:5000/#/experiments/1\n"
     ]
    }
   ],
   "execution_count": 10
  },
  {
   "cell_type": "code",
   "metadata": {
    "ExecuteTime": {
     "end_time": "2025-07-09T19:31:29.781847Z",
     "start_time": "2025-07-09T19:31:29.158994Z"
    }
   },
   "source": [
    "mlflow.search_experiments()"
   ],
   "outputs": [
    {
     "data": {
      "text/plain": [
       "[<Experiment: artifact_location='s3://mlflow-artifacts-remote-vivek2/artifacts/1', creation_time=1752089418627, experiment_id='1', last_update_time=1752089418627, lifecycle_stage='active', name='my-experiment-1', tags={}>,\n",
       " <Experiment: artifact_location='s3://mlflow-artifacts-remote-vivek2/artifacts/0', creation_time=1752088259213, experiment_id='0', last_update_time=1752088259213, lifecycle_stage='active', name='Default', tags={}>]"
      ]
     },
     "execution_count": 11,
     "metadata": {},
     "output_type": "execute_result"
    }
   ],
   "execution_count": 11
  },
  {
   "cell_type": "code",
   "execution_count": null,
   "metadata": {},
   "outputs": [],
   "source": []
  },
  {
   "cell_type": "markdown",
   "metadata": {},
   "source": [
    "### Interacting with the model registry"
   ]
  },
  {
   "cell_type": "code",
   "metadata": {
    "ExecuteTime": {
     "end_time": "2025-07-09T19:31:38.875438Z",
     "start_time": "2025-07-09T19:31:38.871211Z"
    }
   },
   "source": [
    "from mlflow.tracking import MlflowClient\n",
    "\n",
    "\n",
    "client = MlflowClient(f\"http://{TRACKING_SERVER_HOST}:5000\")"
   ],
   "outputs": [],
   "execution_count": 12
  },
  {
   "cell_type": "code",
   "metadata": {
    "ExecuteTime": {
     "end_time": "2025-07-09T19:31:42.064326Z",
     "start_time": "2025-07-09T19:31:41.360554Z"
    }
   },
   "source": [
    "client.search_registered_models()"
   ],
   "outputs": [
    {
     "data": {
      "text/plain": [
       "[]"
      ]
     },
     "execution_count": 13,
     "metadata": {},
     "output_type": "execute_result"
    }
   ],
   "execution_count": 13
  },
  {
   "cell_type": "code",
   "metadata": {
    "ExecuteTime": {
     "end_time": "2025-07-09T19:31:57.352145Z",
     "start_time": "2025-07-09T19:31:44.702282Z"
    }
   },
   "source": [
    "run_id = client.search_runs(experiment_ids=['1'])[0].info.run_id\n",
    "mlflow.register_model(\n",
    "    model_uri=f\"runs:/{run_id}/models\",\n",
    "    name='iris-classifier'\n",
    ")"
   ],
   "outputs": [
    {
     "name": "stderr",
     "output_type": "stream",
     "text": [
      "Successfully registered model 'iris-classifier'.\n",
      "2025/07/10 01:01:54 WARNING mlflow.tracking._model_registry.fluent: Run with id dbc840cde70046a887d541cb2cb1c9fd has no artifacts at artifact path 'models', registering model based on models:/m-e259c2c774cd436fa3b61316f4ccefad instead\n",
      "2025/07/10 01:01:55 INFO mlflow.store.model_registry.abstract_store: Waiting up to 300 seconds for model version to finish creation. Model name: iris-classifier, version 1\n",
      "Created version '1' of model 'iris-classifier'.\n"
     ]
    },
    {
     "data": {
      "text/plain": [
       "<ModelVersion: aliases=[], creation_timestamp=1752089515379, current_stage='None', deployment_job_state=<ModelVersionDeploymentJobState: current_task_name='', job_id='', job_state='DEPLOYMENT_JOB_CONNECTION_STATE_UNSPECIFIED', run_id='', run_state='DEPLOYMENT_JOB_RUN_STATE_UNSPECIFIED'>, description='', last_updated_timestamp=1752089515379, metrics=None, model_id=None, name='iris-classifier', params=None, run_id='dbc840cde70046a887d541cb2cb1c9fd', run_link='', source='models:/m-e259c2c774cd436fa3b61316f4ccefad', status='READY', status_message=None, tags={}, user_id='', version='1'>"
      ]
     },
     "execution_count": 14,
     "metadata": {},
     "output_type": "execute_result"
    }
   ],
   "execution_count": 14
  },
  {
   "cell_type": "code",
   "execution_count": null,
   "metadata": {},
   "outputs": [],
   "source": []
  }
 ],
 "metadata": {
  "interpreter": {
   "hash": "0848c9d6c7d415ad6c477ff7ff8e98694d1a4aa96d0deee89244642e6b630036"
  },
  "kernelspec": {
   "display_name": "Python 3.9.12 ('exp-tracking-env')",
   "language": "python",
   "name": "python3"
  },
  "language_info": {
   "codemirror_mode": {
    "name": "ipython",
    "version": 3
   },
   "file_extension": ".py",
   "mimetype": "text/x-python",
   "name": "python",
   "nbconvert_exporter": "python",
   "pygments_lexer": "ipython3",
   "version": "3.9.12"
  },
  "orig_nbformat": 4
 },
 "nbformat": 4,
 "nbformat_minor": 2
}
